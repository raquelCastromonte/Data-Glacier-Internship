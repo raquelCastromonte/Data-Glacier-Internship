{
 "cells": [
  {
   "cell_type": "markdown",
   "id": "11847331-7c4a-4b86-9395-d93911448a5c",
   "metadata": {},
   "source": [
    "# [Case Study] XYZ Company Investment"
   ]
  },
  {
   "cell_type": "markdown",
   "id": "83c32a50-cd49-4ad3-ba13-2f182426c81b",
   "metadata": {
    "jp-MarkdownHeadingCollapsed": true,
    "tags": []
   },
   "source": [
    "### Author: Raquel Castromonte"
   ]
  },
  {
   "cell_type": "markdown",
   "id": "05d0d58f-ab62-4533-bd45-9dcb7245ddbc",
   "metadata": {},
   "source": [
    "# Part 1: Background Information"
   ]
  },
  {
   "cell_type": "markdown",
   "id": "e6501d8c-d993-41be-baf4-a41f1bb86d53",
   "metadata": {},
   "source": [
    "### **The Client**\n",
    "\n",
    "XYZ is a private firm in US. Due to remarkable growth in the Cab Industry in last few years and multiple key players in the market, it is planning for an investment in Cab industry and as per their Go-to-Market(G2M) strategy they want to understand the market before taking final decision.\n",
    "\n",
    "### **Project delivery:**\n",
    "\n",
    "You have been provided with multiple data sets that contains information on 2 cab companies. Each file (data set) provided represents different aspects of the customer profile. XYZ is interested in using your actionable insights to help them identify the right company to make their investment. The outcome of your delivery will be a presentation to XYZ’s Executive team. "
   ]
  },
  {
   "cell_type": "markdown",
   "id": "1bdbaaf4-bcd2-4f29-965e-24db891a5137",
   "metadata": {},
   "source": [
    "### **Questions**"
   ]
  },
  {
   "cell_type": "markdown",
   "id": "ab9e1294-ba49-492a-896d-82f97e51941e",
   "metadata": {},
   "source": [
    "**I. Insights**\n",
    "1. Which company has the most rides all-time (from 2016-2018)?\n",
    "\n",
    "**A. Demographics**\n",
    "1. What are the different cities?\n",
    "2. How many trips by cab company\n",
    "3. What is the income range of the customers?\n",
    "4. Gender composition by cab company.\n",
    "5. City composition.\n",
    "\n",
    "**B. Profit Analysis**\n",
    "1. Profit Table Insights\n",
    "2. Average profit per km\n",
    "3. Profit by year\n",
    "4. Profit contribution by income class.\n",
    "5. Profit contribution by gender.\n",
    "\n",
    "**C. Precipitation**\n",
    "1. Which cab service is called more often when it rains?"
   ]
  },
  {
   "cell_type": "markdown",
   "id": "671e0701-edaa-4bc0-8d3f-d1219976c4a5",
   "metadata": {},
   "source": [
    "**Data Information**\n",
    "\n",
    "Data is taken from 01/01/2016 to 12/31/2018.\n",
    "\n",
    "| Dataset | Details |\n",
    "|--------------|-----------------|\n",
    "| Cab_Data.csv | this file includes details of transaction for 2 cab companies |\n",
    "| City.csv | this file contains list of US cities, their population and number of cab users |\n",
    "| Customer_ID.csv | this is a mapping table that contains a unique identifier which links the customer’s demographic details |\n",
    "| Transaction_ID.csv | this is a mapping table that contains transaction to customer mapping and payment mode |\n",
    "| precipitation.csv | Rain depth (in) from 01/01/2016 to 12/31/2018 |"
   ]
  },
  {
   "cell_type": "markdown",
   "id": "7bc6adf8-4477-4bc7-a715-098f8dc8f88f",
   "metadata": {},
   "source": [
    "# Part 2: Code"
   ]
  },
  {
   "cell_type": "markdown",
   "id": "e6b9198d-090e-4380-9d74-a8ce51ac07bf",
   "metadata": {
    "tags": []
   },
   "source": [
    "## I: Import Data"
   ]
  },
  {
   "cell_type": "code",
   "execution_count": 1,
   "id": "806e8616-2b95-4e4c-a064-c33bcf4862ce",
   "metadata": {},
   "outputs": [],
   "source": [
    "import pandas as pd\n",
    "import requests\n",
    "import io\n",
    "import numpy as np\n",
    "from datetime import date, timedelta\n",
    "import matplotlib.pyplot as plt\n",
    "import seaborn as sns"
   ]
  },
  {
   "cell_type": "code",
   "execution_count": 2,
   "id": "d71de457-a0b3-4f67-98c5-2de6e8a888e0",
   "metadata": {},
   "outputs": [
    {
     "name": "stdout",
     "output_type": "stream",
     "text": [
      "size of cab data is: (359392, 7)\n",
      "size of city data is: (20, 3)\n",
      "size of customer data is: (49171, 4)\n",
      "size of transaction data is: (440098, 3)\n"
     ]
    }
   ],
   "source": [
    "# Downloading the raw csv file from your GitHub account\n",
    "cab_data = \"https://raw.githubusercontent.com/DataGlacier/DataSets/main/Cab_Data.csv\" \n",
    "city_data = \"https://raw.githubusercontent.com/DataGlacier/DataSets/main/City.csv\"\n",
    "customer_data = \"https://raw.githubusercontent.com/DataGlacier/DataSets/main/Customer_ID.csv\"\n",
    "transaction_data = \"https://raw.githubusercontent.com/DataGlacier/DataSets/main/Transaction_ID.csv\"\n",
    "\n",
    "download_cab = requests.get(cab_data).content\n",
    "download_city = requests.get(city_data).content\n",
    "download_customer = requests.get(customer_data).content\n",
    "download_transaction = requests.get(transaction_data).content\n",
    "\n",
    "cab = pd.read_csv(io.StringIO(download_cab.decode('utf-8'))) # Reading the downloaded content and turning it into a pandas dataframe\n",
    "city = pd.read_csv(io.StringIO(download_city.decode('utf-8')))\n",
    "customer = pd.read_csv(io.StringIO(download_customer.decode('utf-8')))\n",
    "transaction = pd.read_csv(io.StringIO(download_transaction.decode('utf-8')))\n",
    "\n",
    "print(\"size of cab data is:\", cab.shape) #there were 359392 total transactions\n",
    "print(\"size of city data is:\", city.shape) #there are 20 cities\n",
    "print(\"size of customer data is:\", customer.shape) #there are 49171 customers in the database\n",
    "print(\"size of transaction data is:\", transaction.shape) #there were 440098 transactions"
   ]
  },
  {
   "cell_type": "code",
   "execution_count": 3,
   "id": "82350cb4-179a-40ed-9bc0-328e99f23dd9",
   "metadata": {},
   "outputs": [
    {
     "data": {
      "text/html": [
       "<div>\n",
       "<style scoped>\n",
       "    .dataframe tbody tr th:only-of-type {\n",
       "        vertical-align: middle;\n",
       "    }\n",
       "\n",
       "    .dataframe tbody tr th {\n",
       "        vertical-align: top;\n",
       "    }\n",
       "\n",
       "    .dataframe thead th {\n",
       "        text-align: right;\n",
       "    }\n",
       "</style>\n",
       "<table border=\"1\" class=\"dataframe\">\n",
       "  <thead>\n",
       "    <tr style=\"text-align: right;\">\n",
       "      <th></th>\n",
       "      <th>City</th>\n",
       "      <th>Date of Travel</th>\n",
       "      <th>Precipitation</th>\n",
       "    </tr>\n",
       "  </thead>\n",
       "  <tbody>\n",
       "    <tr>\n",
       "      <th>0</th>\n",
       "      <td>ATLANTA GA</td>\n",
       "      <td>2016-01-09</td>\n",
       "      <td>NaN</td>\n",
       "    </tr>\n",
       "    <tr>\n",
       "      <th>1</th>\n",
       "      <td>ATLANTA GA</td>\n",
       "      <td>2016-01-10</td>\n",
       "      <td>0.35</td>\n",
       "    </tr>\n",
       "  </tbody>\n",
       "</table>\n",
       "</div>"
      ],
      "text/plain": [
       "         City Date of Travel  Precipitation\n",
       "0  ATLANTA GA     2016-01-09            NaN\n",
       "1  ATLANTA GA     2016-01-10           0.35"
      ]
     },
     "execution_count": 3,
     "metadata": {},
     "output_type": "execute_result"
    }
   ],
   "source": [
    "#EXTRA DATASET: precipitation data\n",
    "precipitation = pd.read_csv(\"precipitation.csv\")\n",
    "precipitation.head(2)"
   ]
  },
  {
   "cell_type": "code",
   "execution_count": 4,
   "id": "b742182e-2d93-4444-8f35-38d995bb7ca9",
   "metadata": {},
   "outputs": [
    {
     "data": {
      "text/html": [
       "<div>\n",
       "<style scoped>\n",
       "    .dataframe tbody tr th:only-of-type {\n",
       "        vertical-align: middle;\n",
       "    }\n",
       "\n",
       "    .dataframe tbody tr th {\n",
       "        vertical-align: top;\n",
       "    }\n",
       "\n",
       "    .dataframe thead th {\n",
       "        text-align: right;\n",
       "    }\n",
       "</style>\n",
       "<table border=\"1\" class=\"dataframe\">\n",
       "  <thead>\n",
       "    <tr style=\"text-align: right;\">\n",
       "      <th></th>\n",
       "      <th>Transaction ID</th>\n",
       "      <th>Date of Travel</th>\n",
       "      <th>Company</th>\n",
       "      <th>City</th>\n",
       "      <th>KM Travelled</th>\n",
       "      <th>Price Charged</th>\n",
       "      <th>Cost of Trip</th>\n",
       "    </tr>\n",
       "  </thead>\n",
       "  <tbody>\n",
       "    <tr>\n",
       "      <th>0</th>\n",
       "      <td>10000011</td>\n",
       "      <td>42377</td>\n",
       "      <td>Pink Cab</td>\n",
       "      <td>ATLANTA GA</td>\n",
       "      <td>30.45</td>\n",
       "      <td>370.95</td>\n",
       "      <td>313.635</td>\n",
       "    </tr>\n",
       "    <tr>\n",
       "      <th>1</th>\n",
       "      <td>10000012</td>\n",
       "      <td>42375</td>\n",
       "      <td>Pink Cab</td>\n",
       "      <td>ATLANTA GA</td>\n",
       "      <td>28.62</td>\n",
       "      <td>358.52</td>\n",
       "      <td>334.854</td>\n",
       "    </tr>\n",
       "  </tbody>\n",
       "</table>\n",
       "</div>"
      ],
      "text/plain": [
       "   Transaction ID  Date of Travel   Company        City  KM Travelled  \\\n",
       "0        10000011           42377  Pink Cab  ATLANTA GA         30.45   \n",
       "1        10000012           42375  Pink Cab  ATLANTA GA         28.62   \n",
       "\n",
       "   Price Charged  Cost of Trip  \n",
       "0         370.95       313.635  \n",
       "1         358.52       334.854  "
      ]
     },
     "execution_count": 4,
     "metadata": {},
     "output_type": "execute_result"
    }
   ],
   "source": [
    "cab.head(2)"
   ]
  },
  {
   "cell_type": "code",
   "execution_count": 5,
   "id": "efbfc61d-585a-4753-bd6b-298a2155778a",
   "metadata": {},
   "outputs": [
    {
     "data": {
      "text/html": [
       "<div>\n",
       "<style scoped>\n",
       "    .dataframe tbody tr th:only-of-type {\n",
       "        vertical-align: middle;\n",
       "    }\n",
       "\n",
       "    .dataframe tbody tr th {\n",
       "        vertical-align: top;\n",
       "    }\n",
       "\n",
       "    .dataframe thead th {\n",
       "        text-align: right;\n",
       "    }\n",
       "</style>\n",
       "<table border=\"1\" class=\"dataframe\">\n",
       "  <thead>\n",
       "    <tr style=\"text-align: right;\">\n",
       "      <th></th>\n",
       "      <th>City</th>\n",
       "      <th>Population</th>\n",
       "      <th>Users</th>\n",
       "    </tr>\n",
       "  </thead>\n",
       "  <tbody>\n",
       "    <tr>\n",
       "      <th>0</th>\n",
       "      <td>NEW YORK NY</td>\n",
       "      <td>8,405,837</td>\n",
       "      <td>302,149</td>\n",
       "    </tr>\n",
       "    <tr>\n",
       "      <th>1</th>\n",
       "      <td>CHICAGO IL</td>\n",
       "      <td>1,955,130</td>\n",
       "      <td>164,468</td>\n",
       "    </tr>\n",
       "  </tbody>\n",
       "</table>\n",
       "</div>"
      ],
      "text/plain": [
       "          City   Population      Users\n",
       "0  NEW YORK NY   8,405,837    302,149 \n",
       "1   CHICAGO IL   1,955,130    164,468 "
      ]
     },
     "execution_count": 5,
     "metadata": {},
     "output_type": "execute_result"
    }
   ],
   "source": [
    "city.head(2)"
   ]
  },
  {
   "cell_type": "code",
   "execution_count": 6,
   "id": "45eb3a9b-6365-45fd-8930-1b09490bf2bf",
   "metadata": {},
   "outputs": [
    {
     "data": {
      "text/html": [
       "<div>\n",
       "<style scoped>\n",
       "    .dataframe tbody tr th:only-of-type {\n",
       "        vertical-align: middle;\n",
       "    }\n",
       "\n",
       "    .dataframe tbody tr th {\n",
       "        vertical-align: top;\n",
       "    }\n",
       "\n",
       "    .dataframe thead th {\n",
       "        text-align: right;\n",
       "    }\n",
       "</style>\n",
       "<table border=\"1\" class=\"dataframe\">\n",
       "  <thead>\n",
       "    <tr style=\"text-align: right;\">\n",
       "      <th></th>\n",
       "      <th>Customer ID</th>\n",
       "      <th>Gender</th>\n",
       "      <th>Age</th>\n",
       "      <th>Income (USD/Month)</th>\n",
       "    </tr>\n",
       "  </thead>\n",
       "  <tbody>\n",
       "    <tr>\n",
       "      <th>0</th>\n",
       "      <td>29290</td>\n",
       "      <td>Male</td>\n",
       "      <td>28</td>\n",
       "      <td>10813</td>\n",
       "    </tr>\n",
       "    <tr>\n",
       "      <th>1</th>\n",
       "      <td>27703</td>\n",
       "      <td>Male</td>\n",
       "      <td>27</td>\n",
       "      <td>9237</td>\n",
       "    </tr>\n",
       "  </tbody>\n",
       "</table>\n",
       "</div>"
      ],
      "text/plain": [
       "   Customer ID Gender  Age  Income (USD/Month)\n",
       "0        29290   Male   28               10813\n",
       "1        27703   Male   27                9237"
      ]
     },
     "execution_count": 6,
     "metadata": {},
     "output_type": "execute_result"
    }
   ],
   "source": [
    "customer.head(2)"
   ]
  },
  {
   "cell_type": "code",
   "execution_count": 7,
   "id": "3bcb83d8-6445-4424-b1a4-a9ebe6084669",
   "metadata": {},
   "outputs": [
    {
     "data": {
      "text/html": [
       "<div>\n",
       "<style scoped>\n",
       "    .dataframe tbody tr th:only-of-type {\n",
       "        vertical-align: middle;\n",
       "    }\n",
       "\n",
       "    .dataframe tbody tr th {\n",
       "        vertical-align: top;\n",
       "    }\n",
       "\n",
       "    .dataframe thead th {\n",
       "        text-align: right;\n",
       "    }\n",
       "</style>\n",
       "<table border=\"1\" class=\"dataframe\">\n",
       "  <thead>\n",
       "    <tr style=\"text-align: right;\">\n",
       "      <th></th>\n",
       "      <th>Transaction ID</th>\n",
       "      <th>Customer ID</th>\n",
       "      <th>Payment_Mode</th>\n",
       "    </tr>\n",
       "  </thead>\n",
       "  <tbody>\n",
       "    <tr>\n",
       "      <th>0</th>\n",
       "      <td>10000011</td>\n",
       "      <td>29290</td>\n",
       "      <td>Card</td>\n",
       "    </tr>\n",
       "    <tr>\n",
       "      <th>1</th>\n",
       "      <td>10000012</td>\n",
       "      <td>27703</td>\n",
       "      <td>Card</td>\n",
       "    </tr>\n",
       "  </tbody>\n",
       "</table>\n",
       "</div>"
      ],
      "text/plain": [
       "   Transaction ID  Customer ID Payment_Mode\n",
       "0        10000011        29290         Card\n",
       "1        10000012        27703         Card"
      ]
     },
     "execution_count": 7,
     "metadata": {},
     "output_type": "execute_result"
    }
   ],
   "source": [
    "transaction.head(2)"
   ]
  },
  {
   "cell_type": "markdown",
   "id": "3a8bb770-c126-43db-a12e-6f4205554b2a",
   "metadata": {
    "tags": []
   },
   "source": [
    "# II: Data Cleaning"
   ]
  },
  {
   "cell_type": "code",
   "execution_count": 8,
   "id": "63c134d4-3fba-4a3f-8a67-3e27cece1333",
   "metadata": {},
   "outputs": [
    {
     "data": {
      "text/html": [
       "<div>\n",
       "<style scoped>\n",
       "    .dataframe tbody tr th:only-of-type {\n",
       "        vertical-align: middle;\n",
       "    }\n",
       "\n",
       "    .dataframe tbody tr th {\n",
       "        vertical-align: top;\n",
       "    }\n",
       "\n",
       "    .dataframe thead th {\n",
       "        text-align: right;\n",
       "    }\n",
       "</style>\n",
       "<table border=\"1\" class=\"dataframe\">\n",
       "  <thead>\n",
       "    <tr style=\"text-align: right;\">\n",
       "      <th></th>\n",
       "      <th>Transaction ID</th>\n",
       "      <th>Date of Travel</th>\n",
       "      <th>Company</th>\n",
       "      <th>City</th>\n",
       "      <th>KM Travelled</th>\n",
       "      <th>Price Charged</th>\n",
       "      <th>Cost of Trip</th>\n",
       "    </tr>\n",
       "  </thead>\n",
       "  <tbody>\n",
       "    <tr>\n",
       "      <th>0</th>\n",
       "      <td>10000011</td>\n",
       "      <td>2016-01-10</td>\n",
       "      <td>Pink Cab</td>\n",
       "      <td>ATLANTA GA</td>\n",
       "      <td>30.45</td>\n",
       "      <td>370.95</td>\n",
       "      <td>313.635</td>\n",
       "    </tr>\n",
       "    <tr>\n",
       "      <th>1</th>\n",
       "      <td>10000012</td>\n",
       "      <td>2016-01-08</td>\n",
       "      <td>Pink Cab</td>\n",
       "      <td>ATLANTA GA</td>\n",
       "      <td>28.62</td>\n",
       "      <td>358.52</td>\n",
       "      <td>334.854</td>\n",
       "    </tr>\n",
       "  </tbody>\n",
       "</table>\n",
       "</div>"
      ],
      "text/plain": [
       "   Transaction ID Date of Travel   Company        City  KM Travelled  \\\n",
       "0        10000011     2016-01-10  Pink Cab  ATLANTA GA         30.45   \n",
       "1        10000012     2016-01-08  Pink Cab  ATLANTA GA         28.62   \n",
       "\n",
       "   Price Charged  Cost of Trip  \n",
       "0         370.95       313.635  \n",
       "1         358.52       334.854  "
      ]
     },
     "execution_count": 8,
     "metadata": {},
     "output_type": "execute_result"
    }
   ],
   "source": [
    "#convert days since 01/01/1990 to %yyyy%mm%dd\n",
    "days_ = []\n",
    "start = date(1900,1,1)      # This is the \"days since\" part\n",
    "\n",
    "for i in range(len(cab)):\n",
    "    days = cab[\"Date of Travel\"][i].tolist()               # This may work for floats in general, but using integers\n",
    "    delta = timedelta(days)     # Create a time delta object from the number of days\n",
    "    days_.append(start + delta)     # Add the specified number of days to 1900\n",
    "    \n",
    "cab[\"Date of Travel\"] = days_\n",
    "cab.head(2)"
   ]
  },
  {
   "cell_type": "code",
   "execution_count": 9,
   "id": "f05b6dac-f8a4-4485-95d0-ec4a0f8f53e0",
   "metadata": {},
   "outputs": [],
   "source": [
    "#change to datetime \n",
    "cab['Date of Travel'] = pd.to_datetime(cab['Date of Travel'])\n",
    "precipitation['Date of Travel'] = pd.to_datetime(precipitation['Date of Travel'])"
   ]
  },
  {
   "cell_type": "markdown",
   "id": "369bd224-1bf6-4ba2-87cd-d3ec7277a6b1",
   "metadata": {},
   "source": [
    "### Merge Datasets"
   ]
  },
  {
   "cell_type": "code",
   "execution_count": 10,
   "id": "ab9476dd-0241-4f5a-95ee-869c17839d7a",
   "metadata": {},
   "outputs": [],
   "source": [
    "#merges\n",
    "merge1 = transaction.merge(cab, how = \"left\", on = \"Transaction ID\")\n",
    "merge2 = merge1.merge(customer, how = \"left\", on = \"Customer ID\")\n",
    "merge3 = merge2.merge(city, how = \"left\", on = \"City\")"
   ]
  },
  {
   "cell_type": "code",
   "execution_count": 11,
   "id": "629865f9-6434-4fc8-b5a8-90fe59f28045",
   "metadata": {},
   "outputs": [],
   "source": [
    "#FINAL MERGE\n",
    "final_df = merge3.merge(precipitation, left_on=['City','Date of Travel'],\n",
    "           right_on=['City','Date of Travel'], \n",
    "           how='left')"
   ]
  },
  {
   "cell_type": "markdown",
   "id": "2cf949f8-7db7-4b8d-a4cc-bfe0d5d2f156",
   "metadata": {
    "tags": []
   },
   "source": [
    "#### Arrange columns"
   ]
  },
  {
   "cell_type": "code",
   "execution_count": null,
   "id": "3be47297-3390-4a89-a4c2-1f0553ac021d",
   "metadata": {},
   "outputs": [],
   "source": [
    "#add columns\n",
    "\n",
    "#profit column\n",
    "final_df[\"Profit\"] = final_df[\"Price Charged\"] - final_df[\"Cost of Trip\"]\n",
    "#year column\n",
    "final_df['Date of Travel'] = pd.to_datetime(final_df['Date of Travel'])\n",
    "final_df['Year'] = final_df['Date of Travel'].dt.year"
   ]
  },
  {
   "cell_type": "code",
   "execution_count": null,
   "id": "e4488708-0bec-428c-84da-dd8670096114",
   "metadata": {},
   "outputs": [],
   "source": [
    "#delete columns\n",
    "delcol = [\"Payment_Mode\", \"Users\", \"Population\", \"Price Charged\", \"Cost of Trip\"]\n",
    "final_df = final_df.drop(delcol, axis=1)"
   ]
  },
  {
   "cell_type": "code",
   "execution_count": null,
   "id": "f1253914-ebcc-4a58-834b-42257a341f5d",
   "metadata": {},
   "outputs": [],
   "source": [
    "neworder = ['Transaction ID', 'City', \"Year\", 'Date of Travel', \"Precipitation\", 'Company', 'Customer ID', \"Gender\", \"Age\", \"Income (USD/Month)\", \"KM Travelled\", \"Profit\"]\n",
    "final_df = final_df.reindex(columns=neworder)"
   ]
  },
  {
   "cell_type": "code",
   "execution_count": null,
   "id": "4c0f6e64-95f1-4e46-b073-1a50202f67fc",
   "metadata": {},
   "outputs": [],
   "source": [
    "#final_df['Year'] = final_df['Date of Travel'].dt.year"
   ]
  },
  {
   "cell_type": "code",
   "execution_count": null,
   "id": "ccc92a1a-6423-4cda-b09c-4159bd65f978",
   "metadata": {},
   "outputs": [],
   "source": [
    "final_df['Year'].unique()"
   ]
  },
  {
   "cell_type": "markdown",
   "id": "a0e9f18c-6f59-4dc7-8da9-2a5d0f478be6",
   "metadata": {},
   "source": [
    "#### Data Cleaning"
   ]
  },
  {
   "cell_type": "code",
   "execution_count": null,
   "id": "0309f9e1-683a-40f4-a199-b05b637ab4d8",
   "metadata": {},
   "outputs": [],
   "source": [
    "#drop duplicates\n",
    "final_df.drop_duplicates()\n",
    "print(\"Done\")"
   ]
  },
  {
   "cell_type": "code",
   "execution_count": null,
   "id": "a8f9d6ca-b239-42e7-85e1-4bf96cef38c8",
   "metadata": {},
   "outputs": [],
   "source": [
    "#delete rows with no cab data\n",
    "options = [\"Pink Cab\", \"Yellow Cab\"]\n",
    "final_df = final_df[final_df['Company'].isin(options)]\n",
    "\n",
    "#delete rows with non-year data\n",
    "options2 = [2016, 2017, 2018]\n",
    "cab_data = final_df[final_df[\"Year\"].isin(options2)]"
   ]
  },
  {
   "cell_type": "code",
   "execution_count": null,
   "id": "eae4590f-3b71-4489-bf07-8aa2d1ca2c4e",
   "metadata": {},
   "outputs": [],
   "source": [
    "#final dataset\n",
    "final_df.head(5)"
   ]
  },
  {
   "cell_type": "markdown",
   "id": "c28e5572-cf99-49bf-b7e0-303861c7d6ec",
   "metadata": {
    "tags": []
   },
   "source": [
    "# III: Data Analysis"
   ]
  },
  {
   "cell_type": "raw",
   "id": "4bcada93-b0c1-4f52-91be-b30a4cffd300",
   "metadata": {
    "jp-MarkdownHeadingCollapsed": true,
    "tags": []
   },
   "source": [
    "### **A. Demographics**"
   ]
  },
  {
   "cell_type": "markdown",
   "id": "2e526bb9-b89f-4d4d-9624-7f2ddf03a9de",
   "metadata": {},
   "source": [
    "**A1. What are the different cities?**"
   ]
  },
  {
   "cell_type": "code",
   "execution_count": null,
   "id": "451d42fa-4b7d-420e-8082-ff48b7bdca50",
   "metadata": {},
   "outputs": [],
   "source": [
    "print(\"The different cities are: \")\n",
    "print(cab_data.City.unique())"
   ]
  },
  {
   "cell_type": "markdown",
   "id": "2ee9f7f9-66ea-4ef7-8e4f-2b275a6e2a87",
   "metadata": {},
   "source": [
    "**A2: How many trips per cab company?**"
   ]
  },
  {
   "cell_type": "code",
   "execution_count": null,
   "id": "6faee1c7-7c97-41f7-b7f1-39ce0c4bf740",
   "metadata": {},
   "outputs": [],
   "source": [
    "cab_data.groupby(\"Company\").count()[\"Transaction ID\"]"
   ]
  },
  {
   "cell_type": "markdown",
   "id": "6da630a5-6b8a-447a-ae06-7cc856f6f971",
   "metadata": {},
   "source": [
    "Pink Cab company completed 930,349 trips and the Yellow Cab company completed 3,056,926 trips from 2016 to 2018."
   ]
  },
  {
   "cell_type": "markdown",
   "id": "ec9f991c-de5f-445c-b6c8-aeb92c7909c4",
   "metadata": {},
   "source": [
    "**A3: What is the income of the customers?**"
   ]
  },
  {
   "cell_type": "code",
   "execution_count": null,
   "id": "1644e404-38c5-4dbe-8a02-fd78bc1b0587",
   "metadata": {},
   "outputs": [],
   "source": [
    "sns.boxplot(x='Company', y='Income (USD/Month)', data=cab_data)"
   ]
  },
  {
   "cell_type": "code",
   "execution_count": null,
   "id": "f0d08c44-7f36-4df4-98d9-8837c4dad608",
   "metadata": {},
   "outputs": [],
   "source": [
    "print(\"Company: [Pink Cab | Yellow Cab]\")\n",
    "print(\"Minimum monthly income by:\", cab_data.groupby(\"Company\")[\"Income (USD/Month)\"].min().values)\n",
    "print(\"Average monthly income by:\", cab_data.groupby(\"Company\")[\"Income (USD/Month)\"].mean().values)\n",
    "print(\"Maximum monthly income by:\", cab_data.groupby(\"Company\")[\"Income (USD/Month)\"].max().values)\n",
    "print(\"Standard deviation of monthly income:\", cab_data.groupby(\"Company\")[\"Income (USD/Month)\"].std().values)"
   ]
  },
  {
   "cell_type": "markdown",
   "id": "7774420b-7c1e-4cdf-bbf0-489deb0e2afe",
   "metadata": {},
   "source": [
    "Pink Cab customers have a higher mininum, average, and maximum income than the yellow cab customers."
   ]
  },
  {
   "cell_type": "markdown",
   "id": "5258944f-5839-4c29-a86f-35ef128a2849",
   "metadata": {},
   "source": [
    "**A4: Gender composition by cab company.**"
   ]
  },
  {
   "cell_type": "code",
   "execution_count": null,
   "id": "eb0385d5-7565-470c-902e-cf52550ad96c",
   "metadata": {},
   "outputs": [],
   "source": [
    "cab_data.groupby([\"Company\", \"Gender\"])[\"Transaction ID\"].count()"
   ]
  },
  {
   "cell_type": "markdown",
   "id": "69999631-f397-4490-9177-3e32889076b4",
   "metadata": {},
   "source": [
    "Each company has more male customers than female customers."
   ]
  },
  {
   "cell_type": "markdown",
   "id": "bac9a21c-a709-4695-983d-34902317b736",
   "metadata": {},
   "source": [
    "**A5: City Composition**"
   ]
  },
  {
   "cell_type": "code",
   "execution_count": null,
   "id": "796f4b34-9095-4f55-bc48-6860a15fdd70",
   "metadata": {},
   "outputs": [],
   "source": [
    "pink_1 = cab_data.groupby([\"Company\", \"City\"])[\"Transaction ID\"].count()[0:19]\n",
    "yellow_1 = cab_data.groupby([\"Company\", \"City\"])[\"Transaction ID\"].count()[19:40]"
   ]
  },
  {
   "cell_type": "code",
   "execution_count": null,
   "id": "ac9faf0a-9dd7-4512-82a2-ca71c5eefe1d",
   "metadata": {},
   "outputs": [],
   "source": [
    "plt.scatter(cab_data.City.unique(), pink_1.values, label = \"Pink\", color = 'pink')\n",
    "plt.scatter(cab_data.City.unique(), yellow_1.values, label = \"Yellow\", color = \"gold\")\n",
    "plt.xticks(rotation = 75)\n",
    "plt.legend()\n",
    "plt.title(\"Number of Rides by City\")\n",
    "plt.show()"
   ]
  },
  {
   "cell_type": "code",
   "execution_count": null,
   "id": "73fdd074-6ae9-4b06-85c2-4d408369a800",
   "metadata": {},
   "outputs": [],
   "source": [
    "#without atlanta\n",
    "plt.scatter(cab_data.City.unique()[1:19], pink_1.values[1:19], label = \"Pink\", color = 'pink')\n",
    "plt.scatter(cab_data.City.unique()[1:19], yellow_1.values[1:19], label = \"Yellow\", color = \"gold\")\n",
    "plt.xticks(rotation = 75)\n",
    "plt.legend()\n",
    "plt.title(\"Number of Rides by City (Without Atlanta)\")\n",
    "plt.show()"
   ]
  },
  {
   "cell_type": "markdown",
   "id": "c1ca554f-082b-48a4-9510-91cc38443ed6",
   "metadata": {},
   "source": [
    "**A6. Unique customers by City**"
   ]
  },
  {
   "cell_type": "code",
   "execution_count": null,
   "id": "2eff83ee-a046-415f-ab92-ea09d103c70b",
   "metadata": {},
   "outputs": [],
   "source": [
    "pink_customers = cab_data[cab_data[\"Company\"] == \"Pink Cab\"]\n",
    "yellow_customers = cab_data[cab_data[\"Company\"] == \"Yellow Cab\"]"
   ]
  },
  {
   "cell_type": "code",
   "execution_count": null,
   "id": "4dcfca53-cf36-4c44-858c-62e5395cd79c",
   "metadata": {},
   "outputs": [],
   "source": [
    "p = pink_customers.drop_duplicates().groupby(\"City\", as_index=False)[\"Customer ID\"].agg([\"count\"])\n",
    "y = yellow_customers.drop_duplicates().groupby(\"City\", as_index=False)[\"Customer ID\"].agg([\"count\"])"
   ]
  },
  {
   "cell_type": "code",
   "execution_count": null,
   "id": "5ad05acd-a07e-4454-9df0-e1de0727d2db",
   "metadata": {},
   "outputs": [],
   "source": [
    "plt.scatter(p.index, p.values, label = \"Pink Cab\", color = \"red\")\n",
    "plt.scatter(y.index, y.values, label = \"Yellow Cab\", color = \"green\")\n",
    "plt.xticks(rotation = 75)\n",
    "plt.legend()\n",
    "plt.title(\"Number of Unique Customers by City\")\n",
    "plt.ylabel(\"Unique Users\")\n",
    "plt.show()"
   ]
  },
  {
   "cell_type": "markdown",
   "id": "2da93ac6-8634-4047-a900-f3e35baef74a",
   "metadata": {
    "tags": []
   },
   "source": [
    "### **B. Profit Analysis**"
   ]
  },
  {
   "cell_type": "markdown",
   "id": "e20a17c8-5d8c-49ae-aee8-a777f71e4296",
   "metadata": {},
   "source": [
    "**B1: Profit Table**"
   ]
  },
  {
   "cell_type": "code",
   "execution_count": null,
   "id": "17c89964-9522-47cb-8c75-6424898cb2ee",
   "metadata": {},
   "outputs": [],
   "source": [
    "#table of total profit, number of rides, and average profit per ride by company\n",
    "profit = cab_data.groupby(\"Company\")[\"Profit\"].sum()\n",
    "num_of_rides = cab_data.groupby(\"Company\")[\"Transaction ID\"].count()\n",
    "av_ppr = cab_data.groupby(\"Company\")[\"Profit\"].mean()"
   ]
  },
  {
   "cell_type": "code",
   "execution_count": null,
   "id": "c62859e4-f550-40c5-8338-d52fd32f9d55",
   "metadata": {},
   "outputs": [],
   "source": [
    "pd.set_option('display.float_format', '{:.2f}'.format)\n",
    "df = pd.DataFrame({\"Company\":[\"Pink Cab\", \"Yellow Cab\"],\n",
    "                   \"Profit\":[profit[0],profit[1]],\n",
    "                   \"Number of Rides\": [num_of_rides[0], num_of_rides[1]],\n",
    "                   \"Average Profit Per Ride\": [av_ppr[0], av_ppr[1]]\n",
    "                  })\n",
    "print(df)"
   ]
  },
  {
   "cell_type": "markdown",
   "id": "b754d6e3-3b8c-4683-94f2-bde530ce9b30",
   "metadata": {},
   "source": [
    "**B2: Average Profit per km**"
   ]
  },
  {
   "cell_type": "code",
   "execution_count": null,
   "id": "42583b2b-fea4-4bd2-b551-2062a63fc78e",
   "metadata": {},
   "outputs": [],
   "source": [
    "#make a new column called \"Profit/km\"\n",
    "pd.options.mode.chained_assignment = None  # default='warn'\n",
    "cab_data[\"Profit/KM\"] = cab_data.Profit/cab_data[\"KM Travelled\"]"
   ]
  },
  {
   "cell_type": "code",
   "execution_count": null,
   "id": "0722d06e-2ec0-4e09-a35f-98a979aec0f2",
   "metadata": {},
   "outputs": [],
   "source": [
    "p_km = cab_data.groupby([\"Company\", \"Year\"])[\"Profit/KM\"].mean()\n",
    "p_km"
   ]
  },
  {
   "cell_type": "code",
   "execution_count": null,
   "id": "873a0029-a043-4cc5-8ca0-3e6ded648715",
   "metadata": {},
   "outputs": [],
   "source": [
    "import plotly.graph_objects as go\n",
    "x = cab_data.Year.unique()\n",
    "plot = go.Figure(\n",
    "    data=[go.Bar(\n",
    "        name = 'Pink Cab',\n",
    "        x = x,\n",
    "        y = [p_km[0], p_km[1], p_km[2]]),\n",
    "          go.Bar(\n",
    "              name = 'Yellow Cab', \n",
    "              x = x,\n",
    "              y = [p_km[3], p_km[4], p_km[5]])\n",
    "         ]\n",
    ")\n",
    "\n",
    "plot.update_xaxes(title_text=\"Year\")\n",
    "plot.update_yaxes(title_text=\"Average Profit/KM\")\n",
    "plot.show()"
   ]
  },
  {
   "cell_type": "markdown",
   "id": "35b5c1a8-6cae-49fe-820b-3a30c58caa56",
   "metadata": {},
   "source": [
    "**B3. Profit by Year**"
   ]
  },
  {
   "cell_type": "code",
   "execution_count": null,
   "id": "65fe6b71-513b-4852-91a1-fa4a3d474114",
   "metadata": {},
   "outputs": [],
   "source": [
    "#what is the cab with the most profit \n",
    "pink_2 = cab_data.groupby([\"Company\", \"Year\"])[\"Profit\"].sum()[0:3]\n",
    "yellow_2 = cab_data.groupby([\"Company\", \"Year\"])[\"Profit\"].sum()[3:6]"
   ]
  },
  {
   "cell_type": "code",
   "execution_count": null,
   "id": "d5d65307-8d15-4732-b22f-fad21a0ecbf7",
   "metadata": {},
   "outputs": [],
   "source": [
    "years = [\"2016\", \"2017\", \"2018\"]\n",
    "plt.plot(years, pink_2.values, ls = '-', label = \"Pink\", color = 'pink')\n",
    "plt.plot(years, yellow_2.values, ls = '-', label = \"Yellow\", color = \"gold\")\n",
    "plt.legend()\n",
    "plt.title(\"Total Profit by Year\")\n",
    "plt.ylabel(\"Total Profit (in millions)\")\n",
    "plt.show()"
   ]
  },
  {
   "cell_type": "markdown",
   "id": "9a43ddcd-1e62-41ca-83ac-e62da6686ebf",
   "metadata": {},
   "source": [
    "**B4: Profit Contribution by Class**"
   ]
  },
  {
   "cell_type": "markdown",
   "id": "a834ca28-164d-4626-be10-285c4c9e0eec",
   "metadata": {},
   "source": [
    "* Class 1: >= 15000 USD per Month \n",
    "* Class 2: 2500 USD < x < 15000 USD per Month\n",
    "* Class 3: <= 2500 USH per Month"
   ]
  },
  {
   "cell_type": "code",
   "execution_count": null,
   "id": "e818572a-6a64-4f5b-8300-f2e9a1e5a5de",
   "metadata": {},
   "outputs": [],
   "source": [
    "def salary_stats(value):\n",
    "    if value > 15000:\n",
    "        return \"Class 1\"\n",
    "    if 2500 <= value < 15000:\n",
    "        return \"Class 2\"\n",
    "    elif value < 2500:\n",
    "        return \"Class 3\"\n",
    " \n",
    "cab_data['Class'] = cab_data['Income (USD/Month)'].map(salary_stats)\n",
    "display(cab_data.head(2))"
   ]
  },
  {
   "cell_type": "code",
   "execution_count": null,
   "id": "1f979a4e-68a2-48e4-8d97-9856ad647432",
   "metadata": {},
   "outputs": [],
   "source": [
    "pbc = cab_data.groupby([\"Company\", \"Class\"])[\"Profit\"].sum()\n",
    "pbc"
   ]
  },
  {
   "cell_type": "code",
   "execution_count": null,
   "id": "68062173-1d1d-4452-9b2f-7e1d1fa8722a",
   "metadata": {},
   "outputs": [],
   "source": [
    "x = [\"Pink Cab\", \"Yellow Cab\"]\n",
    "plot = go.Figure(\n",
    "    data=[go.Bar(\n",
    "        name = 'Class 1',\n",
    "        x = x,\n",
    "        y = [pbc[0], pbc[3]]),\n",
    "          go.Bar(\n",
    "              name = 'Class 2', \n",
    "              x = x,\n",
    "              y = [pbc[1], pbc[4]]),\n",
    "          go.Bar(\n",
    "              name = 'Class 3', \n",
    "              x = x,\n",
    "              y = [pbc[2], pbc[5]])\n",
    "         ]\n",
    ")\n",
    "\n",
    "plot.update_xaxes(title_text=\"Company\")\n",
    "plot.update_yaxes(title_text=\"Profit Contribution\")\n",
    "plot.show()"
   ]
  },
  {
   "cell_type": "markdown",
   "id": "bdf79652-a815-4abc-a24f-c0d7a4d38b6a",
   "metadata": {},
   "source": [
    "**B5. Profit Contribution by Gender**"
   ]
  },
  {
   "cell_type": "code",
   "execution_count": null,
   "id": "370665db-72a0-4fc4-89f0-871b2ce47c13",
   "metadata": {},
   "outputs": [],
   "source": [
    "pbg = cab_data.groupby([\"Company\", \"Gender\"])[\"Profit\"].sum()\n",
    "pbg"
   ]
  },
  {
   "cell_type": "code",
   "execution_count": null,
   "id": "b5218048-fc05-4e66-a105-ea76677b37d8",
   "metadata": {},
   "outputs": [],
   "source": [
    "x = [\"Pink Cab\", \"Yellow Cab\"]\n",
    "plot = go.Figure(\n",
    "    data=[go.Bar(\n",
    "        name = 'Female',\n",
    "        x = x,\n",
    "        y = [pbg[0], pbg[2]]),\n",
    "          go.Bar(\n",
    "              name = 'Male', \n",
    "              x = x,\n",
    "              y = [pbg[1], pbg[3]])\n",
    "         ]\n",
    ")\n",
    "\n",
    "plot.update_xaxes(title_text=\"Gender\")\n",
    "plot.update_yaxes(title_text=\"Profit Contribution\")\n",
    "plot.show()"
   ]
  },
  {
   "cell_type": "markdown",
   "id": "640547be-ec77-4c60-bf64-fef5c6bf6234",
   "metadata": {
    "tags": []
   },
   "source": [
    "### **C. Precipitation Insights**"
   ]
  },
  {
   "cell_type": "code",
   "execution_count": null,
   "id": "44ccf51c-73c2-4c06-88ea-31900a234a1c",
   "metadata": {},
   "outputs": [],
   "source": [
    "print(\"About\", cab_data['Precipitation'].isnull().sum()/cab_data.size *100, \"% of the precipitation data is missing. This is a good stat!\")\n"
   ]
  },
  {
   "cell_type": "code",
   "execution_count": null,
   "id": "424b398a-d3ad-4d29-8140-7fe05e689f09",
   "metadata": {},
   "outputs": [],
   "source": [
    "pink = cab_data[cab_data[\"Company\"] == \"Pink Cab\"]\n",
    "yellow = cab_data[cab_data[\"Company\"] == \"Yellow Cab\"]"
   ]
  },
  {
   "cell_type": "code",
   "execution_count": null,
   "id": "3a8f47cb-2c6d-42c6-86ee-0724d7efc22b",
   "metadata": {},
   "outputs": [],
   "source": [
    "#as precipitation increases, how many trips are taken\n",
    "#histogram\n",
    "plt.hist(yellow[\"Precipitation\"], bins = 30, color = \"green\", label = \"Yellow Cab\")\n",
    "plt.hist(pink[\"Precipitation\"], bins = 30, color = \"red\", label = \"Pink Cab\")\n",
    "plt.title(\"Precipitation Frequency\")\n",
    "plt.ylabel(\"Frequency (in millions)\")\n",
    "plt.xlabel(\"Precipitation Depth (in)\")\n",
    "plt.legend()\n",
    "plt.show()"
   ]
  },
  {
   "cell_type": "markdown",
   "id": "dd6b167c-1d7a-4676-8154-68209c48c7cb",
   "metadata": {},
   "source": [
    "# Part 3. Recommendation"
   ]
  },
  {
   "cell_type": "markdown",
   "id": "3dbc167c-1dae-4d99-b539-7cdd52df2999",
   "metadata": {},
   "source": [
    "* **Customer Income:** Both companies similar maximum, minimum, and average customer income.\n",
    "\n",
    "* **Trip Quantities:** Yellow cab completed more trips and has more distinct customers than the Pink cab. There is a greater difference in cities like New York City, Atlanta, Washington DC, and Chicago.\n",
    "\n",
    "* **Average Profit per KM:** Yellow cab’s average profit per KM is almost three times the average profit per KM of the Pink cab.\n",
    "\n",
    "* **Income wise Reach:** Both the cabs are very popular in high and medium income class but here also Yellow cab is performing better than Pink cab in offering their services to all the three income class group (Class 1, Class 2 and Class 3)\n",
    "\n",
    "* **Precipitation:** Customers are most likely going to use Yellow cab services than Pink cab on a rainy day. Even so, they choose Yellow cab on non-rainy days."
   ]
  },
  {
   "cell_type": "markdown",
   "id": "281e9019-858b-42fa-9565-104c8e093c20",
   "metadata": {},
   "source": [
    "**Invest in Yellow Cab due to its high customer base, profit earnings, and reliability.**"
   ]
  }
 ],
 "metadata": {
  "kernelspec": {
   "display_name": "Python 3 (ipykernel)",
   "language": "python",
   "name": "python3"
  },
  "language_info": {
   "codemirror_mode": {
    "name": "ipython",
    "version": 3
   },
   "file_extension": ".py",
   "mimetype": "text/x-python",
   "name": "python",
   "nbconvert_exporter": "python",
   "pygments_lexer": "ipython3",
   "version": "3.9.12"
  }
 },
 "nbformat": 4,
 "nbformat_minor": 5
}
